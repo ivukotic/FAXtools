{
 "cells": [
  {
   "cell_type": "raw",
   "metadata": {},
   "source": [
    "For a given reqid's and indices returns a number of averages."
   ]
  },
  {
   "cell_type": "code",
   "execution_count": 1,
   "metadata": {
    "collapsed": true
   },
   "outputs": [],
   "source": [
    "from datetime import datetime\n",
    "from elasticsearch import Elasticsearch, exceptions as es_exceptions\n",
    "\n",
    "es = Elasticsearch(hosts=[{'host':'atlas-kibana.mwt2.org', 'port':9200}],timeout=60)\n"
   ]
  },
  {
   "cell_type": "code",
   "execution_count": 2,
   "metadata": {
    "collapsed": false
   },
   "outputs": [],
   "source": [
    "ind=\"jobs_archive_2016-02-10,jobs_archive_2016-02-11,jobs_archive_2016-02-12,jobs_archive_2016-02-13\"\n",
    "\n",
    "ss = {\n",
    "  \"size\": 0,\n",
    "  \"aggs\": {\n",
    "    \"2\": {\n",
    "      \"terms\": {\n",
    "        \"field\": \"transformation\",\n",
    "        \"size\": 5,\n",
    "        \"order\": {\n",
    "          \"_count\": \"desc\"\n",
    "        }\n",
    "      },\n",
    "      \"aggs\": {\n",
    "        \"3\": {\n",
    "          \"avg\": {\n",
    "            \"field\": \"wall_time\"\n",
    "          }\n",
    "        },\n",
    "        \"4\": {\n",
    "          \"avg\": {\n",
    "            \"field\": \"nevents\"\n",
    "          }\n",
    "        },\n",
    "        \"5\": {\n",
    "          \"avg\": {\n",
    "            \"field\": \"cpu_eff\"\n",
    "          }\n",
    "        },\n",
    "        \"6\": {\n",
    "          \"avg\": {\n",
    "            \"field\": \"corecount\"\n",
    "          }\n",
    "        },\n",
    "        \"7\": {\n",
    "          \"avg\": {\n",
    "            \"field\": \"inputfilebytes\"\n",
    "          }\n",
    "        },\n",
    "        \"8\": {\n",
    "          \"sum\": {\n",
    "            \"field\": \"inputfilebytes\"\n",
    "          }\n",
    "        }\n",
    "      }\n",
    "    }\n",
    "  },\n",
    "  \"query\": {\n",
    "    \"filtered\": {\n",
    "      \"query\": {\n",
    "        \"query_string\": {\n",
    "          \"analyze_wildcard\": True,\n",
    "          \"lowercase_expanded_terms\": False,\n",
    "          \"query\": \"reqid:5776 OR reqid:5780\"\n",
    "        }\n",
    "      }\n",
    "    }\n",
    "  }\n",
    "}"
   ]
  },
  {
   "cell_type": "code",
   "execution_count": 3,
   "metadata": {
    "collapsed": false
   },
   "outputs": [
    {
     "name": "stdout",
     "output_type": "stream",
     "text": [
      "Reco_tf.py \tjobs: 200139 \t 27.591183340112444  seconds per event\n",
      "AODMerge_tf.py \tjobs: 9731 \t 0.3498153762289544  seconds per event\n",
      "HISTMerge_tf.py \tjobs: 771 \t 0.028787254855824194  seconds per event\n",
      "http://pandaserver.cern.ch:25085/trf/user/runGen-00-00-02 \tjobs: 11 \t 0.025362362964568685  seconds per event\n"
     ]
    }
   ],
   "source": [
    "res= es.search(index=ind, body=ss, size=3)\n",
    "\n",
    "#print(res)\n",
    "for r in res['aggregations']['2']['buckets']:\n",
    "    cores=r['6']['value']\n",
    "    wall=r['3']['value']\n",
    "    events=r['4']['value']\n",
    "    cpueff=r['5']['value']\n",
    "    if events<1: continue\n",
    "    secPerEvent=wall/events*cores\n",
    "    #print (r['key'], \"\\tjobs:\", r['doc_count'], \"\\tavg. wall:\", wall, \"\\tevents:\", events ,\"\\tcpu eff.:\", cpueff ) \n",
    "    print (r['key'], \"\\tjobs:\", r['doc_count'], \"\\t\", secPerEvent, \" seconds per event\" ) \n"
   ]
  }
 ],
 "metadata": {
  "kernelspec": {
   "display_name": "Python 3",
   "language": "python",
   "name": "python3"
  },
  "language_info": {
   "codemirror_mode": {
    "name": "ipython",
    "version": 3
   },
   "file_extension": ".py",
   "mimetype": "text/x-python",
   "name": "python",
   "nbconvert_exporter": "python",
   "pygments_lexer": "ipython3",
   "version": "3.5.1"
  }
 },
 "nbformat": 4,
 "nbformat_minor": 0
}
