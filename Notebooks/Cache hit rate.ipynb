{
 "cells": [
  {
   "cell_type": "markdown",
   "metadata": {},
   "source": [
    "# Simulating Caching efficiencies\n",
    "<B>For a given time period and site calculates what would have been a cache performance depending on the cache size.</B>"
   ]
  },
  {
   "cell_type": "code",
   "execution_count": 1,
   "metadata": {
    "collapsed": true
   },
   "outputs": [],
   "source": [
    "%matplotlib inline\n",
    "from datetime import datetime\n",
    "import numpy as np\n",
    "from elasticsearch import Elasticsearch, exceptions as es_exceptions\n",
    "from elasticsearch.helpers import scan\n",
    "import matplotlib.pyplot as plt\n",
    "from matplotlib.dates import YearLocator, MonthLocator, DateFormatter\n",
    "from matplotlib.dates import AutoDateFormatter, AutoDateLocator\n",
    "\n",
    "lastHours = 48\n",
    "site      = 'BNL-ATLAS'\n",
    "#site='WT2'\n",
    "cacheSize = 10*1024 # in GB\n",
    "highWater = 95 # in percents\n",
    "lowWater  = 90"
   ]
  },
  {
   "cell_type": "code",
   "execution_count": 2,
   "metadata": {
    "collapsed": false
   },
   "outputs": [],
   "source": [
    "es = Elasticsearch(hosts=[{'host':'uct2-es-door.mwt2.org', 'port':9200}],timeout=60)"
   ]
  },
  {
   "cell_type": "code",
   "execution_count": 3,
   "metadata": {
    "collapsed": false
   },
   "outputs": [],
   "source": [
    "hW = cacheSize*1024*1024*10.24 * highWater\n",
    "lW = cacheSize*1024*1024*10.24 * lowWater\n",
    "currentTime=int(round(datetime.utcnow().timestamp()* 1000))\n",
    "startTime=currentTime - lastHours*3600000 \n",
    "searchString={\n",
    "    \"fields\": [\"timestamp\", \"filename\", \"filesize\", \"read\", \"readv\"],\n",
    "    \"query\":{\n",
    "        \"filtered\":{\n",
    "            \"query\":{\n",
    "                \"term\": {\"site\": { \"value\": site } }\n",
    "            },\n",
    "            \"filter\":{\n",
    "                \"range\":{\"timestamp\":{\"gte\": startTime,\"format\": \"epoch_millis\"}}\n",
    "            }\n",
    "        }\n",
    "    },\n",
    "    \"sort\": { \"timestamp\": { \"order\": \"asc\" }}\n",
    "}"
   ]
  },
  {
   "cell_type": "markdown",
   "metadata": {},
   "source": [
    "Actually running the search"
   ]
  },
  {
   "cell_type": "code",
   "execution_count": 4,
   "metadata": {
    "collapsed": false
   },
   "outputs": [
    {
     "name": "stdout",
     "output_type": "stream",
     "text": [
      "results fetched: 59625\n"
     ]
    }
   ],
   "source": [
    "scroll = scan(es, query=searchString, index='detailed_stream', scroll='10s')\n",
    "RawData=[]\n",
    "for res in scroll:\n",
    "    r = res['fields']\n",
    "    fn = r['filename'][0]\n",
    "    if 'ivukotic' in fn: continue # skipping test files.\n",
    "    ts = r['timestamp'][0]\n",
    "    fs = r['filesize'][0]\n",
    "    rs = r['read'][0]+r['readv'][0]\n",
    "    RawData.append([fn,ts,fs,rs])\n",
    "print (\"results fetched:\", len(RawData) ) \n",
    "RawData.sort(key=lambda tup: tup[1])"
   ]
  },
  {
   "cell_type": "code",
   "execution_count": 5,
   "metadata": {
    "collapsed": false
   },
   "outputs": [
    {
     "name": "stdout",
     "output_type": "stream",
     "text": [
      "Data delivered:  40.82725246195332 TB\n",
      "Filesize:  113.98358101158647 TB\n",
      "Cache hits:  16778\n",
      "Delivered from cache:  6.301459991649608 TB\n"
     ]
    }
   ],
   "source": [
    "#plotting lists\n",
    "dates=[]; cachesizeInT=[]\n",
    "datesC=[]; cached=[]\n",
    "datesD=[]; direct=[]\n",
    "\n",
    "#running variables\n",
    "totalDataDelivered=0\n",
    "totalFilesize=0\n",
    "currentCacheSize=0\n",
    "cachedFiles={}\n",
    "cacheHits=0\n",
    "deliveredFromCache=0\n",
    "cleaningOrder=[]\n",
    "for r in RawData:\n",
    "    fn = r[0]\n",
    "    ts = r[1]\n",
    "    fs = r[2]\n",
    "    rs = r[3]\n",
    "    totalDataDelivered += rs\n",
    "    totalFilesize += fs\n",
    "    if fn in cachedFiles:\n",
    "        cacheHits += 1\n",
    "        deliveredFromCache += rs\n",
    "        datesC.append(datetime.fromtimestamp(ts/1000))\n",
    "        cached.append(rs)\n",
    "#         print(fn)\n",
    "        for ind in range(len(cleaningOrder)):\n",
    "            if cleaningOrder[ind][0]==fn: break\n",
    "        cleaningOrder.pop(ind)\n",
    "        cleaningOrder.append([fn,rs])\n",
    "    else:\n",
    "        if fs+currentCacheSize>hW: #crossing high water mark\n",
    "            cleanedUpFiles=0\n",
    "            cleanedUpSize=0\n",
    "            while currentCacheSize>lW:\n",
    "                [toRemove_fn,toRemove_rs]=cleaningOrder.pop(0)\n",
    "                cleanedUpFiles+=1\n",
    "                cleanedUpSize+=toRemove_rs\n",
    "                currentCacheSize -= toRemove_rs\n",
    "                try:\n",
    "                    del cachedFiles[toRemove_fn]\n",
    "                except:\n",
    "                    print(toRemove_fn, toRemove_rs)\n",
    "#             print(datetime.fromtimestamp(ts/1000),\"cleaned up\",cleanedUpFiles,\"files or\",cleanedUpSize/1024/1024/1024,'GB')\n",
    "            \n",
    "        cachedFiles[fn]=[fs,ts]\n",
    "        cleaningOrder.append([fn,rs])\n",
    "        currentCacheSize += rs\n",
    "        datesD.append(datetime.fromtimestamp(ts/1000))\n",
    "        direct.append(rs)\n",
    "        \n",
    "    dates.append(datetime.fromtimestamp(ts/1000))\n",
    "    cachesizeInT.append(currentCacheSize)\n",
    "    \n",
    "print (\"Data delivered: \", totalDataDelivered/1024/1024/1024/1024, \"TB\")\n",
    "print (\"Filesize: \", totalFilesize/1024/1024/1024/1024, \"TB\")\n",
    "print (\"Cache hits: \", cacheHits)\n",
    "print (\"Delivered from cache: \", deliveredFromCache/1024/1024/1024/1024, \"TB\")"
   ]
  },
  {
   "cell_type": "markdown",
   "metadata": {},
   "source": [
    "<B>cache fill plot</B>"
   ]
  },
  {
   "cell_type": "code",
   "execution_count": 6,
   "metadata": {
    "collapsed": false
   },
   "outputs": [
    {
     "data": {
      "image/png": "[encoded data removed]",
      "text/plain": [
       "<matplotlib.figure.Figure at 0x7f9a493b3940>"
      ]
     },
     "metadata": {},
     "output_type": "display_data"
    }
   ],
   "source": [
    "fig, ax = plt.subplots()\n",
    "cacheFilePlot = ax.plot_date(dates, cachesizeInT, '-')\n",
    "\n",
    "xtick_locator = AutoDateLocator()\n",
    "xtick_formatter = AutoDateFormatter(xtick_locator)\n",
    "\n",
    "ax.xaxis.set_major_locator(xtick_locator)\n",
    "ax.xaxis.set_major_formatter(xtick_formatter)\n",
    "\n",
    "fig = plt.gcf()\n",
    "fig.set_size_inches(10, 8)\n",
    "\n",
    "ax.grid(True)"
   ]
  },
  {
   "cell_type": "markdown",
   "metadata": {
    "collapsed": true
   },
   "source": [
    "<B>delivered from cache vs directly</B>\n"
   ]
  },
  {
   "cell_type": "code",
   "execution_count": 7,
   "metadata": {
    "collapsed": false
   },
   "outputs": [
    {
     "data": {
      "image/png": "[encoded data removed]",
      "text/plain": [
       "<matplotlib.figure.Figure at 0x7f9a45088e80>"
      ]
     },
     "metadata": {},
     "output_type": "display_data"
    }
   ],
   "source": [
    "n, bins, patches = plt.hist(datesC, 50, weights=cached, facecolor='green', alpha=0.25)\n",
    "n, bins, patches = plt.hist(datesD, 50, weights=direct, facecolor='blue', alpha=0.25)\n",
    "\n",
    "plt.xlabel('Time')\n",
    "plt.ylabel('Delivered')\n",
    "# plt.title(r'$\\mathrm{Histogram\\ of\\ IQ:}\\ \\mu=100,\\ \\sigma=15$')\n",
    "plt.grid(True)\n",
    "\n",
    "xtick_locator = AutoDateLocator()\n",
    "xtick_formatter = AutoDateFormatter(xtick_locator)\n",
    "ax = plt.gca()\n",
    "ax.xaxis.set_major_locator(xtick_locator)\n",
    "ax.xaxis.set_major_formatter(xtick_formatter)\n",
    "\n",
    "fig = plt.gcf()\n",
    "fig.set_size_inches(11, 8)\n",
    "\n",
    "plt.show()\n",
    "\n",
    "\n",
    "\n",
    "\n"
   ]
  },
  {
   "cell_type": "code",
   "execution_count": null,
   "metadata": {
    "collapsed": true
   },
   "outputs": [],
   "source": []
  }
 ],
 "metadata": {
  "kernelspec": {
   "display_name": "Python 3",
   "language": "python",
   "name": "python3"
  },
  "language_info": {
   "codemirror_mode": {
    "name": "ipython",
    "version": 3
   },
   "file_extension": ".py",
   "mimetype": "text/x-python",
   "name": "python",
   "nbconvert_exporter": "python",
   "pygments_lexer": "ipython3",
   "version": "3.5.1"
  }
 },
 "nbformat": 4,
 "nbformat_minor": 0
}
